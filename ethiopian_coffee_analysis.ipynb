{
 "cells": [
  {
   "cell_type": "markdown",
   "id": "9817321e",
   "metadata": {},
   "source": [
    "# Ethiopian Coffee Export Analysis\n",
    "\n",
    "This notebook shows a basic analysis of coffee export prices and volumes in Ethiopia from 2017 to 2022."
   ]
  },
  {
   "cell_type": "code",
   "execution_count": null,
   "id": "79644bde",
   "metadata": {},
   "outputs": [],
   "source": [
    "import pandas as pd\n",
    "import matplotlib.pyplot as plt"
   ]
  },
  {
   "cell_type": "code",
   "execution_count": null,
   "id": "b91f01c7",
   "metadata": {},
   "outputs": [],
   "source": [
    "# Coffee export data\n",
    "data = {\n",
    "    \"Year\": [2017, 2018, 2019, 2020, 2021, 2022],\n",
    "    \"Average Price (USD/kg)\": [3.1, 3.3, 3.5, 3.2, 3.8, 4.0],\n",
    "    \"Export Volume (1000 tons)\": [190, 200, 210, 195, 220, 230]\n",
    "}\n",
    "\n",
    "df = pd.DataFrame(data)\n",
    "df"
   ]
  },
  {
   "cell_type": "code",
   "execution_count": null,
   "id": "3b9c9f4e",
   "metadata": {},
   "outputs": [],
   "source": [
    "# Plotting the data\n",
    "plt.figure(figsize=(8, 5))\n",
    "plt.plot(df[\"Year\"], df[\"Average Price (USD/kg)\"], marker='o', label=\"Price per kg\")\n",
    "plt.plot(df[\"Year\"], df[\"Export Volume (1000 tons)\"], marker='s', label=\"Export Volume\")\n",
    "plt.title(\"Ethiopian Coffee Export Prices and Volume (2017–2022)\")\n",
    "plt.xlabel(\"Year\")\n",
    "plt.ylabel(\"Value\")\n",
    "plt.legend()\n",
    "plt.grid(True)\n",
    "plt.tight_layout()\n",
    "plt.show()"
   ]
  },
  {
   "cell_type": "markdown",
   "id": "a6ce16ac",
   "metadata": {},
   "source": [
    "This simple project shows how data can be visualized and interpreted. Coffee is a key export for Ethiopia, and data like this helps us understand market trends."
   ]
  }
 ],
 "metadata": {},
 "nbformat": 4,
 "nbformat_minor": 5
}
